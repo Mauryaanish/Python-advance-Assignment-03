{
  "nbformat": 4,
  "nbformat_minor": 0,
  "metadata": {
    "colab": {
      "provenance": []
    },
    "kernelspec": {
      "name": "python3",
      "display_name": "Python 3"
    },
    "language_info": {
      "name": "python"
    }
  },
  "cells": [
    {
      "cell_type": "code",
      "execution_count": null,
      "metadata": {
        "id": "29UlJhQEaJLn"
      },
      "outputs": [],
      "source": []
    },
    {
      "cell_type": "markdown",
      "source": [
        "## 1. What is the concept of an abstract superclass?\n",
        "\n",
        "Answer:- An abstract superclass is one way to provide re-usable code. You can extend the abstract class and inherit the code. This is sometimes more convenient than using static methods or object composition to share code. The abstract class can \"fix\" parts of the code"
      ],
      "metadata": {
        "id": "hDmkemhuh9kX"
      }
    },
    {
      "cell_type": "code",
      "source": [],
      "metadata": {
        "id": "Yh2chvy_iFFe"
      },
      "execution_count": null,
      "outputs": []
    },
    {
      "cell_type": "markdown",
      "source": [
        "## 2. What happens when a class statement&#39;s top level contains a basic assignment statement?\n",
        "\n",
        "Answer:- An assignment statement sets the current value of a variable, field, parameter, or element. The statement consists of an assignment target followed by the assignment operator and an expression. When the statement is executed, the expression is evaluated and the resulting value is stored in the target"
      ],
      "metadata": {
        "id": "nl1NawQXiIzr"
      }
    },
    {
      "cell_type": "code",
      "source": [],
      "metadata": {
        "id": "kNQsXQ86ifAa"
      },
      "execution_count": null,
      "outputs": []
    },
    {
      "cell_type": "markdown",
      "source": [
        "## 3. Why does a class need to manually call a superclass&#39;s __init__ method?\n",
        "\n",
        "Answer:- it's because one needs to define something that is NOT done in the base-class' __init__ , and the only possibility to obtain that is to put its execution in a derived-class' __init__ function."
      ],
      "metadata": {
        "id": "Z9QKu_Wvif9H"
      }
    },
    {
      "cell_type": "code",
      "source": [],
      "metadata": {
        "id": "cG8M_YSqiqOd"
      },
      "execution_count": null,
      "outputs": []
    },
    {
      "cell_type": "markdown",
      "source": [
        "## 4. How can you augment, instead of completely replacing, an inherited method?\n",
        "\n",
        "Answer:- A more sophisticated way to augment an inherited method involves forwarding. Message forwarding allows you to augment an inherited method in such a way that it can perform its inherited action and some new action"
      ],
      "metadata": {
        "id": "4TfgU0BWiq10"
      }
    },
    {
      "cell_type": "code",
      "source": [],
      "metadata": {
        "id": "p92TSJBuixL1"
      },
      "execution_count": null,
      "outputs": []
    },
    {
      "cell_type": "markdown",
      "source": [
        "## 5. How is the local scope of a class different from that of a function?\n",
        "\n",
        "Answer:- For example, if you assign a value to a name inside a function, then that name will have a local Python scope. In contrast, if you assign a value to a name outside of all functions—say, at the top level of a module—then that name will have a global Python scope."
      ],
      "metadata": {
        "id": "TuWvxLu_ixtG"
      }
    },
    {
      "cell_type": "code",
      "source": [],
      "metadata": {
        "id": "TDdPYuivi66l"
      },
      "execution_count": null,
      "outputs": []
    }
  ]
}